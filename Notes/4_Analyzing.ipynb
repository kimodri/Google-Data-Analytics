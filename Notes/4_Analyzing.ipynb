{
 "cells": [
  {
   "cell_type": "markdown",
   "id": "decc447a-d8ec-40e3-976b-c6c7222047a5",
   "metadata": {},
   "source": [
    "# Data Analytics: Analysis\n",
    "Kim Audrey Magan | 18/12/2024\n",
    "\n",
    "---"
   ]
  },
  {
   "cell_type": "markdown",
   "id": "34b2773a-21bf-44cb-ad37-533072a15c20",
   "metadata": {},
   "source": [
    "## Contents"
   ]
  },
  {
   "cell_type": "markdown",
   "id": "86a79a1f-fbdf-4465-988f-1b6556314c91",
   "metadata": {},
   "source": [
    "## Objectives\n",
    "Finishing this course, one must be able to:\n",
    "1. **Organize data to begin analysis**, organization makes the data easier to use in an analysis\n",
    "2. **Format and adjust**, formatting your data for your analysis\n",
    "3. **Aggregate data for analysis**, combine data to gain insights\n",
    "4. **Perform data calculations**, using formulas and pivot tables"
   ]
  },
  {
   "cell_type": "markdown",
   "id": "935d7c6e-5fb8-4657-8988-fb05020ed97d",
   "metadata": {},
   "source": [
    "## Steps of Analysis"
   ]
  },
  {
   "cell_type": "markdown",
   "id": "db390e4f-809b-4e9d-91e6-c02cb34e0355",
   "metadata": {},
   "source": [
    "### Analysis\n",
    "The goal of analysis is to identify trends and relationships within the data to accurately answer the question you're asking.\n",
    "\n",
    "### 4 Phases of Analysis  \n",
    "\n",
    "We have 4 phases of analysis and this will also act as our steps:\n",
    "\n",
    "| **Phase**               | **Description**                                                                                                                   |\n",
    "|-------------------------|-----------------------------------------------------------------------------------------------------------------------------------|\n",
    "| **Organize Data**        | Arrange data in a way that makes it easy to work with.                                                                            |\n",
    "| **Format and Adjust Data** | Ensure data is easy to reference by formatting, sorting, or filtering it.                                                        |\n",
    "| **Get Input from Others** | Seek input or perspectives from others to gain new insights or avoid challenges.                                                  |\n",
    "| **Transform Data**       | Identify relationships and patterns between data points and make calculations to solve the problem.                               |\n"
   ]
  },
  {
   "cell_type": "markdown",
   "id": "aab3666b-0c6c-4d2b-a8a9-40ffe275237f",
   "metadata": {},
   "source": [
    "## Recall\n",
    "Google course on data analytics:\r\n",
    "There are **6 phases** for data analysis and this 6 phases are the coverage for this program and these are\r\n",
    "\r\n",
    "| **Step**         | **Description**                                                                                                                                                 |\r\n",
    "|-------------------|-----------------------------------------------------------------------------------------------------------------------------------------------------------------|\r\n",
    "| ~~**Asking**~~       | ~~Communicate with stakeholders about the problem to be solved. Ask relevant questions to narrow the focus of analysis. <br><br>~~~~**Example**: What are the possible data? What is the root problem/cause?~~ |\r\n",
    "| ~~**Preparation**~~  | ~~Gather the data to analyze. It could be through surveys or past company data.~~                                                                                   |\r\n",
    "| ~~**Process**~~      | ~~Manipulate the gathered data, such as removing outliers or filling nulls.~~                                                                                       |\r\n",
    "| **Analyzing**    | Analyze the cleaned data to find patterns, if any.                                                                                                              |\r\n",
    "| **Sharing**      | Share the findings using visualizations.                                                                                                                        |\r\n",
    "| **Act**          | Recommend proper steps for the company to solve the problem based on the analysis.                                       "
   ]
  },
  {
   "cell_type": "markdown",
   "id": "efd16a61-3e87-470e-9871-04112f576add",
   "metadata": {},
   "source": [
    "## Steps in Depth:"
   ]
  },
  {
   "cell_type": "markdown",
   "id": "6baa5a1c-cdc9-4331-bd72-5adae0a78939",
   "metadata": {},
   "source": [
    "### 1. Organize"
   ]
  },
  {
   "cell_type": "markdown",
   "id": "1c9216c8-71bb-4dc1-9bd4-4a581cd49b7e",
   "metadata": {},
   "source": [
    "- You organize data by sorting and filtering and you can do this both with Spreadsheet and SQL\n",
    "- You organize so that you manipulate your data in ways that make important patterns and trends more obvious. "
   ]
  },
  {
   "cell_type": "markdown",
   "id": "b10d6893-e0a0-4f1e-95b5-d891ec353e6c",
   "metadata": {},
   "source": [
    "#### Sorting and Filtering:\n",
    "**Sorting:** The process of arranging data into a meaningful order to make it easier to understand, analyze, and visualize.  \n",
    "**Filtering:** Subsetting your data that only meets a specified criteria while hiding the rest."
   ]
  },
  {
   "cell_type": "markdown",
   "id": "c9cbdc2e-1d03-4da7-89f9-903da8b81f02",
   "metadata": {},
   "source": [
    "#### Sort and Filter Data with SQL"
   ]
  },
  {
   "cell_type": "markdown",
   "id": "832ffd2b-b447-4b9c-a34a-2e8f70f4c239",
   "metadata": {},
   "source": [
    "You can **sort** data with the `ORDER BY` clause and Filter data with the `WHERE` clause.\n",
    "\n",
    "**This query sort the resulting data with age from highest to lowest:**\n",
    "```SQL\n",
    "SELECT \n",
    "    name,\n",
    "    age\n",
    "FROM \n",
    "    Family\n",
    "ORDER BY\n",
    "    age DESC;\n",
    "```\n",
    "\n",
    "**This quesry filters the resulting data to only include family members whose age is 18 and above:**\n",
    "```SQL\n",
    "SELECT \n",
    "    name,\n",
    "    age\n",
    "FROM \n",
    "    Family\n",
    "WHERE \n",
    "    age >= 18\n",
    "ORDER BY \n",
    "    age DESC;\n",
    "```"
   ]
  },
  {
   "cell_type": "markdown",
   "id": "6524df7c-5acc-421c-a3c2-d174d57c956d",
   "metadata": {},
   "source": [
    "#### Sort and Filter with Google Sheets/Excel"
   ]
  },
  {
   "cell_type": "markdown",
   "id": "fe28e31b-365a-4c32-b2e4-c18e4df5765f",
   "metadata": {},
   "source": [
    "The following are the things you can use when Sorting with spreadsheets:\n",
    "\n",
    "| Features/Functions   | Description                                                                                                                                                   | Syntax                                                                                     |\r\n",
    "|-----------------------|---------------------------------------------------------------------------------------------------------------------------------------------------------------|-------------------------------------------------------------------------------------------|\r\n",
    "| Sort Sheet            | Sorts all data in a spreadsheet based on a single column, keeping related rows intact.                                                                       | Select a column, then go to **Data > Sort sheet by column [A to Z or Z to A]**.           |\r\n",
    "| Sort Range            | Sorts a specific range of cells without affecting the rest of the spreadsheet, which can result in rows being mismatched.                                    | Select a range, then go to **Data > Sort range by column [A to Z or Z to A]**.            |\r\n",
    "| SORT Function         | A spreadsheet function that sorts data within a specified range by a chosen column in ascending or descending order.                                          | `=SORT(range, sort_column_index, is_ascending)` e.g., `=SORT(A2:D6, 2, TRUE)`.            |\r\n",
    "| Custom Sort Order     | Allows sorting data based on multiple conditions, using the \"Sort range\" option in the Data tab.                                                             | Highlight data, go to **Data > Sort range**, check \"Data has a header row,\" and set conditions. |\r\n"
   ]
  },
  {
   "cell_type": "markdown",
   "id": "9ae7cacc-a8b8-4dd7-92ca-c8dd69193923",
   "metadata": {},
   "source": [
    "If you want to filter datasets, you can use the `FILTER()` function or just hover to the filter button.\n",
    "\n",
    "---"
   ]
  },
  {
   "cell_type": "markdown",
   "id": "b40afda5-803d-4390-bc62-54d851dc4556",
   "metadata": {},
   "source": [
    "### 2. Formatting and Adjusting"
   ]
  },
  {
   "cell_type": "markdown",
   "id": "09c4cddf-e830-4b5b-8c1b-322a643c2d48",
   "metadata": {},
   "source": [
    "- The same reasoning applies here with cleaning\n",
    "- You have to make sure that your data is in the right format so that whatever functions you choose to apply to them will work properly for instance sorting strings differ from sorting rows.\n",
    "- You can reformat or adjust your data both with spreadsheets and SQL"
   ]
  },
  {
   "cell_type": "markdown",
   "id": "b755f465-75e5-4e16-8352-68f2dc16c82f",
   "metadata": {},
   "source": [
    "#### 2.1. Ensuring the Format with Spreadsheets:\n",
    "\n",
    "The following are the tools/functions you can use to make sure that your columns are in the types you want it to:\n",
    "\n",
    "| Features/Functions              | Description                                                                                                                                                                    | Syntax/Steps                                                                                                                                      |\r\n",
    "|---------------------------------|--------------------------------------------------------------------------------------------------------------------------------------------------------------------------------|---------------------------------------------------------------------------------------------------------------------------------------------------|\r\n",
    "| Data Type Formatting            | Converts columns to specific data types like number, currency, date, or percentage.                                                                                           | Select the column, go to the toolbar, and choose a data type from the drop-down menu.                                                             |\r\n",
    "| Custom Number Format            | Allows customization of number formats beyond the default options.                                                                                                            | Select the column, go to the toolbar, open the full menu, and choose \"Custom number format.\"                                                      |\r\n",
    "| CONVERT Function                | Converts a value from one unit of measurement to another, such as from Fahrenheit to Celsius.                                                                                 | `=CONVERT(value, \"from_unit\", \"to_unit\")` e.g., `=CONVERT(A2, \"F\", \"C\")`.                                                                        |\r\n",
    "| Paste Values Only               | Replaces formula-generated data with static values to avoid confusion when working with the data later.                                                                        | Copy data, right-click, select \"Paste special,\" then choose \"Paste values only.\"                                                                 |\r\n",
    "| Data Validation                 | Controls what can be entered into cells by adding drop-down menus, custom checkboxes, or rejecting invalid inputs.                                                             | Select cells → Data menu → Data validation → Choose criteria (e.g., list, checkbox, etc.).                                                       |\r\n",
    "| Conditional Formatting          | Changes how cells appear based on specific conditions, adding visual cues that make tables easier to read and interpret.                                                      | Format menu → Conditional formatting → Set the range → Define rules (e.g., \"Text is exactly\" or \"Date is after\") → Choose formatting style.       |\r\n",
    "| Combining Conditional Formatting and Data Validation | Enhances visual cues by applying conditional formatting to validated data, such as drop-down lists or date columns, to highlight statuses or deadlines.            | 1. Use data validation to restrict input (e.g., drop-down or date). 2. Apply conditional formatting rules (e.g., red for \"Not Yet Started,\" etc.). |\r\n",
    "\n"
   ]
  },
  {
   "cell_type": "markdown",
   "id": "4986eff1-5175-4a9c-a192-80c0f0705cf3",
   "metadata": {},
   "source": [
    "There are sources in the internet, you can just search, Kim :)"
   ]
  },
  {
   "cell_type": "markdown",
   "id": "041b695e-b8e0-4f06-b031-17b3ed6c4055",
   "metadata": {},
   "source": [
    "#### 2.2. Adjusting Data with Spreadhseet"
   ]
  },
  {
   "cell_type": "markdown",
   "id": "24ce2d75-3587-437d-8ff7-71800ea13d7e",
   "metadata": {},
   "source": [
    "- **Adjusting by adding data:**\n",
    "    - Sometimes you may want to adjust your data by adding another data with Spreadsheet, you can use: \n",
    "    - `=IMPORTRANGE(spreadsheet_url, range_string).`"
   ]
  },
  {
   "cell_type": "markdown",
   "id": "c28ce39f-590a-4161-9775-e60484c6ca66",
   "metadata": {},
   "source": [
    "- **Adjusting the elements such as the strings:**\n",
    "    - When you want to adjust strings because your calculation pushes you so. You can use functions such as:\n",
    "    - `LEN`, `RIGHT`, `FIND`, amd `LEFT`\n",
    "    - For example you just want to analyze the time and leave the date, since the format is `Date Time` you can use the `RIGHT` function to substring from the right. "
   ]
  },
  {
   "cell_type": "markdown",
   "id": "7ff9450d-4093-46b2-a7fa-b2651edddebc",
   "metadata": {},
   "source": [
    "#### 2.3. Ensuring the Format with SQL"
   ]
  },
  {
   "cell_type": "markdown",
   "id": "f1abab67-1c53-4cea-a424-9f5340e3eedc",
   "metadata": {},
   "source": [
    "Source: https://cloud.google.com/bigquery/docs/reference/standard-sql/conversion_rules"
   ]
  },
  {
   "cell_type": "markdown",
   "id": "0457232c-2165-46f4-8424-238b3b33e200",
   "metadata": {},
   "source": [
    "When converting with SQL, you can use:\n",
    "- `CAST` common conversions\n",
    "- `COERCION` specialized conversions\n",
    "- `UNIX_DATE` working with dates"
   ]
  },
  {
   "cell_type": "markdown",
   "id": "b28d5ead-46b9-4b2b-9868-b43bd381aa7c",
   "metadata": {},
   "source": [
    "**Using CAST:**\n",
    "```SQL\n",
    "-- Converting a number to a string\n",
    "SELECT \n",
    "    CAST(NyCount AS STRING)\n",
    "FROM myTable;\n",
    "\n",
    "-- Converting a string to a number\n",
    "SELECT \n",
    "    CAST(MyVarcharCol AS INT) \n",
    "FROM myTable;\n",
    "\n",
    "-- Converting a date to a string\n",
    "SELECT \n",
    "    CAST(MyDate AS STRING)\n",
    "FROM MyTable;\n",
    "\n",
    "-- Conveting a date to a datetime\n",
    "SELECT \n",
    "    CAST (MyDate AS DATETIME) \n",
    "FROM MyTable;\n",
    "```"
   ]
  },
  {
   "cell_type": "markdown",
   "id": "92322b4e-296b-4d28-aae4-4d9f15b8b31b",
   "metadata": {},
   "source": [
    "You can also use the `SAFE_CAST` it is almost the same, the `SAFE_CAST` function returns a value of Null instead of an error when a query fails. "
   ]
  },
  {
   "cell_type": "markdown",
   "id": "5208ec36-6eaa-442c-a5b5-7a827d181446",
   "metadata": {},
   "source": [
    "#### 2.4. Adjusting Data with SQL"
   ]
  },
  {
   "cell_type": "markdown",
   "id": "41ca15c6-4702-409f-84ba-b5c1e0ad9f49",
   "metadata": {},
   "source": [
    "- **Importing data in SQL:**\n",
    "    - You can import data from one table to another with SQL using `INSERT INTO` command together with the `SELECT`.\n",
    "\n",
    "```SQL\n",
    "INSERT INTO [destination_table_name]\r\n",
    "SELECT [column names, separated by commas, or * for all columns]\r\n",
    "FROM [source_table_name]\r\n",
    "WHERE [condition]"
   ]
  },
  {
   "cell_type": "markdown",
   "id": "15c5598a-e334-4df8-8a3e-ecaa008321cc",
   "metadata": {},
   "source": [
    "- **Adjusting strings with SQL:**\n",
    "\n",
    "- For example you are dealing with two columns  \n",
    "`Start`  \n",
    "`END`\n",
    "\n",
    "- And what you want to do is combine these two to gain insights about how much time it takes from start to end. In SQL you can use functions such as `CONCAT`, `CONCAT_WS` and the operator `||` to combine the two. \n",
    "\n",
    "The importance is that sometimes in your analysis you may want to still tweak some things.\n",
    "\n",
    "---"
   ]
  },
  {
   "cell_type": "markdown",
   "id": "fc666e66-ad37-4ee3-bc41-46e848505cf7",
   "metadata": {},
   "source": [
    "### 3. Get Input from Others"
   ]
  },
  {
   "cell_type": "markdown",
   "id": "8b8bef1d-745f-4ec6-ac83-783ee4080058",
   "metadata": {},
   "source": [
    "If you are stuck ask StackOverflow, ChatGPT, or your colleagues.\n",
    "\n",
    "---"
   ]
  },
  {
   "cell_type": "markdown",
   "id": "9e89ad44-3cb4-4d83-aa3b-089d626e7cba",
   "metadata": {},
   "source": [
    "### 4. Transforming Data"
   ]
  },
  {
   "cell_type": "markdown",
   "id": "9631f80e-d4ad-4d0a-9263-06b98cbd2678",
   "metadata": {},
   "source": [
    "Let's say you have already a cleaned, formatted data from various spreadsheets that you can use for your analysis, now it is your task to combine them so that you can perform calculations to them easily.\n",
    "- You can transofrm your data by combining and calculation"
   ]
  },
  {
   "cell_type": "markdown",
   "id": "515fc035-2f3d-4c35-b78a-d9c829c70020",
   "metadata": {},
   "source": [
    "### 4.1. Data Aggregation:"
   ]
  },
  {
   "cell_type": "markdown",
   "id": "836e5156-eb9f-4f99-baa7-640d68b78ab6",
   "metadata": {},
   "source": [
    "### Data Aggregation with Spreadsheet (VLOOKUP):\n",
    "- Combining data is called **Data Aggregation**\n",
    "- So far we have been using VLOOKUP as a data cleaning tool by searching but it can also be used for data aggreagtion (populating your data)\n"
   ]
  },
  {
   "cell_type": "markdown",
   "id": "f6ad14a2-ec9a-4b9a-a37f-1dbdd8ff080e",
   "metadata": {},
   "source": [
    "You can use VLOOKUP to aggregate/combine your data by populating it like this:\n",
    "\n",
    "#### Scenario 1: Populating Data in a Spreadsheet  \n",
    "**Before VLOOKUP**  \n",
    "<table>\n",
    "<tr>\n",
    "<td style=\"padding-right: 50px;\">\n",
    "\n",
    "**Product Spreadsheet**  \n",
    "| Product ID | Product Name   |  \n",
    "|------------|----------------|  \n",
    "| 101        | (missing)      |  \n",
    "| 102        | (missing)      |  \n",
    "| 103        | (missing)      |  \n",
    "\n",
    "</td>\n",
    "<td>\n",
    "\n",
    "**Product Details Spreadsheet**  \n",
    "| Product ID | Product Name   |  \n",
    "|------------|----------------|  \n",
    "| 101        | Widget A       |  \n",
    "| 102        | Widget B       |  \n",
    "| 103        | Widget C       |  \n",
    "\n",
    "</td>\n",
    "</tr>\n",
    "</table>\n",
    "\n",
    "\n",
    "**After VLOOKUP**  \n",
    "**Product Spreadsheet**  \n",
    "| Product ID | Product Name   |  \n",
    "|------------|----------------|  \n",
    "| 101        | Widget A       |  \n",
    "| 102        | Widget B       |  \n",
    "| 103        | Widget C       |  "
   ]
  },
  {
   "cell_type": "markdown",
   "id": "7d9d9770-ed07-4510-b26d-c5e1a1d5faf4",
   "metadata": {},
   "source": [
    "You can also use it if you want to merge:\n",
    "\n",
    "#### Scenario 2: Merging Data from Two Spreadsheets\n",
    "\n",
    "**Before VLOOKUP**  \n",
    "<table>\n",
    "<tr>\n",
    "<td style=\"padding-right: 50px;\">\n",
    "\n",
    "**Grades Spreadsheet**  \n",
    "| Student ID | Name      | Grade |  \n",
    "|------------|-----------|-------|  \n",
    "| 201        | Alice     | A     |  \n",
    "| 202        | Bob       | B     |  \n",
    "| 203        | Charlie   | C     |  \n",
    "\n",
    "</td>\n",
    "<td>\n",
    "\n",
    "**Attendance Spreadsheet**  \n",
    "| Student ID | Attendance |  \n",
    "|------------|------------|  \n",
    "| 201        | Present    |  \n",
    "| 202        | Absent     |  \n",
    "| 203        | Present    |  \n",
    "\n",
    "</td>\n",
    "</tr>\n",
    "</table>\n",
    "\n",
    "\n",
    "**After VLOOKUP**  \n",
    "**Merged Spreadsheet**  \n",
    "| Student ID | Name      | Grade | Attendance |  \n",
    "|------------|-----------|-------|------------|  \n",
    "| 201        | Alice     | A     | Present    |  \n",
    "| 202        | Bob       | B     | Absent     |  \n",
    "| 203        | Charlie   | C     | Present    |"
   ]
  },
  {
   "cell_type": "markdown",
   "id": "e85b0d6c-2324-44e9-a12f-27d11e02f989",
   "metadata": {},
   "source": [
    "### Data Aggregation with SQL\n",
    "- You can use `JOIN`s and subqueries if you want to aggregate with SQL."
   ]
  },
  {
   "cell_type": "markdown",
   "id": "b4007b4c-9214-4e1b-afed-2927dab5f024",
   "metadata": {},
   "source": [
    "#### Using JOINs to Aggregate Data\n",
    "There are different types of JOINS and the accuracy of your data depend on the correct use of it because except `INNER JOIN` they can produce NULLs \n",
    "\n",
    "There are differen types of JOINS you can use and, Kim, you have the notes to this in your datacamp\n",
    "\n",
    "- INNER JOIN\n",
    "- LEFT JOIN\n",
    "- RIGHT JOIN\n",
    "- OUTER JOIN"
   ]
  },
  {
   "cell_type": "markdown",
   "id": "984f6141-0486-4450-88fb-228936fac0fe",
   "metadata": {},
   "source": [
    "#### Using Subquery to Aggregate Data"
   ]
  },
  {
   "cell_type": "markdown",
   "id": "b8abecb3-5d01-49a6-915a-5777df0d10a9",
   "metadata": {},
   "source": [
    "This is pretty intense stuff, Kim. But the main gist is that you must master subquery mostly in `SELECT` and then be able to combine it with various clauses such as `GROUP BY` and `HAVING` to calculate and aggregate."
   ]
  },
  {
   "cell_type": "markdown",
   "id": "7807f61d-d06e-435c-b7be-9d6b0f481203",
   "metadata": {},
   "source": [
    "Here are the suggested readings to be able to aggregate your databases:\n",
    "\n",
    "1. HAVING: The HAVING clause filters the results of a SQL query based on conditions applied after the grouping.\n",
    "\n",
    "http://www-db.deis.unibo.it/courses/TW/DOCS/w3schools/sql/sql_having.asp.html\n",
    "\n",
    "2. CASE: CASE provides conditional logic in SQL queries, similar to an 'if-else' structure in programming languages.\n",
    "\n",
    "https://www.w3schools.com/sql/sql_case.asp\n",
    "\n",
    "3. IF: IF performs a simple conditional test and returns a value depending on the outcome.\n",
    "\n",
    "https://www.w3schools.com/sql/func_mysql_if.asp\n",
    "\n",
    "---"
   ]
  },
  {
   "cell_type": "markdown",
   "id": "76f0e6a1-112a-4d76-8226-9379d0775651",
   "metadata": {},
   "source": [
    "### 4.2. Calculation\n",
    "Now that you have an aggregated data (which means all the data you need for your analysis is in your hand, you can now calculate)."
   ]
  },
  {
   "cell_type": "markdown",
   "id": "dc201e2b-b5da-4d21-9166-150f4dce1af5",
   "metadata": {},
   "source": [
    "To explain the calculation we can follow along with the case study presented:"
   ]
  },
  {
   "cell_type": "markdown",
   "id": "0b741e3e-4ccc-43d0-a867-2590d4bfea27",
   "metadata": {},
   "source": [
    "\n",
    "> We were given a dataset containing the sales of a store. Our objective is to find patterns and any trends. We are assuming that we have already done all the works from above and now calculating:"
   ]
  },
  {
   "cell_type": "code",
   "execution_count": 10,
   "id": "6e6b89be-c43c-44f3-ad8a-8f7ecc6f7d8e",
   "metadata": {},
   "outputs": [
    {
     "name": "stdout",
     "output_type": "stream",
     "text": [
      "      january_sales  february_sales  march_sales  april_sales  may_sales  \\\n",
      "2011        47563.0         49078.0      51324.0      55678.0    54687.0   \n",
      "2012        39575.0         50384.0      56827.0      60401.0    59802.0   \n",
      "2013        56591.0         50319.0      51627.0      53040.0    63607.0   \n",
      "2014        39113.0         40107.0      52332.0      63681.0    54788.0   \n",
      "2015        41666.0         53993.0      43428.0      64898.0    58070.0   \n",
      "2016        38405.0         46658.0      40267.0      53313.0    57532.0   \n",
      "2017        41756.0         41311.0      50981.0      62467.0    54526.0   \n",
      "2018        56061.0         40703.0      47350.0      56515.0    60270.0   \n",
      "2019        57355.0         46703.0      44234.0      57172.0    63455.0   \n",
      "2020        42234.0         54050.0      42377.0      61252.0    55787.0   \n",
      "\n",
      "      june_sales  july_sales  august_sales  september_sales  october_sales  \\\n",
      "2011     72013.0     80443.0       86785.0          90876.0        67712.0   \n",
      "2012     84023.0     59733.0       86568.0          90986.0        68145.0   \n",
      "2013     84145.0     72511.0       91004.0          95838.0        70003.0   \n",
      "2014     69505.0     69789.0       80030.0          96448.0        70317.0   \n",
      "2015     77845.0     79131.0       83993.0          93311.0        67773.0   \n",
      "2016     78583.0     70271.0       88744.0          95468.0        66886.0   \n",
      "2017     84282.0     73403.0       82530.0          92958.0        67167.0   \n",
      "2018     75195.0     70765.0       89011.0          91707.0        73375.0   \n",
      "2019     72180.0     82110.0       90201.0          90814.0        69444.0   \n",
      "2020     78382.0     88438.0       89150.0          95810.0        70843.0   \n",
      "\n",
      "      november_sales  december_sales  \n",
      "2011         70048.0        145378.0  \n",
      "2012         81811.0        199468.0  \n",
      "2013         79809.0        155736.0  \n",
      "2014         74153.0        160152.0  \n",
      "2015         71925.0        159231.0  \n",
      "2016         82020.0        162724.0  \n",
      "2017         75553.0        161102.0  \n",
      "2018         77740.0        182880.0  \n",
      "2019         73301.0        192224.0  \n",
      "2020         75393.0        137534.0  \n"
     ]
    }
   ],
   "source": [
    "# Do not worry about these codes\n",
    "# I just cleaned the data\n",
    "import pandas as pd\n",
    "import matplotlib.pyplot as plt\n",
    "\n",
    "dfSales = pd.read_csv(r\"C:\\Users\\magan\\Downloads\\Discount-Variety-Store-433-Monthly-Sales - Discount-Variety-Store-433-Monthly-Sales - Sheet1.csv\")\n",
    "dfSales.set_index(\"Monthly sales\", inplace = True)\n",
    "newCol = [x.lower() + \"_sales\" for x in dfSales.columns]\n",
    "dfSales.columns = newCol\n",
    "dfSales.index.name = None\n",
    "\n",
    "# let me just clean the data:\n",
    "# before parsing we need to remove the dollar sign\n",
    "import re\n",
    "myReg = re.compile(\"[\\$\\,]\")\n",
    "for col in dfSales:\n",
    "    dfSales[col] = [myReg.sub(\"\", i) for i in dfSales[col]]\n",
    "\n",
    "for col in dfSales:\n",
    "    dfSales[col] = pd.to_numeric(dfSales[col])\n",
    "print(dfSales)"
   ]
  },
  {
   "cell_type": "markdown",
   "id": "ed6f88bc-c1a0-4323-a3bd-55767b01928f",
   "metadata": {},
   "source": [
    "What we have here is the sales for each month from 2011 - 2020. We have the sales for each month but we don't have the sales for each year. Thus we use the `sum()` function to be able to calculate that:"
   ]
  },
  {
   "cell_type": "code",
   "execution_count": 11,
   "id": "54b7a32b-26d6-4414-992a-50665d654217",
   "metadata": {},
   "outputs": [
    {
     "name": "stdout",
     "output_type": "stream",
     "text": [
      "      january_sales  february_sales  march_sales  april_sales  may_sales  \\\n",
      "2011        47563.0         49078.0      51324.0      55678.0    54687.0   \n",
      "2012        39575.0         50384.0      56827.0      60401.0    59802.0   \n",
      "2013        56591.0         50319.0      51627.0      53040.0    63607.0   \n",
      "2014        39113.0         40107.0      52332.0      63681.0    54788.0   \n",
      "2015        41666.0         53993.0      43428.0      64898.0    58070.0   \n",
      "2016        38405.0         46658.0      40267.0      53313.0    57532.0   \n",
      "2017        41756.0         41311.0      50981.0      62467.0    54526.0   \n",
      "2018        56061.0         40703.0      47350.0      56515.0    60270.0   \n",
      "2019        57355.0         46703.0      44234.0      57172.0    63455.0   \n",
      "2020        42234.0         54050.0      42377.0      61252.0    55787.0   \n",
      "\n",
      "      june_sales  july_sales  august_sales  september_sales  october_sales  \\\n",
      "2011     72013.0     80443.0       86785.0          90876.0        67712.0   \n",
      "2012     84023.0     59733.0       86568.0          90986.0        68145.0   \n",
      "2013     84145.0     72511.0       91004.0          95838.0        70003.0   \n",
      "2014     69505.0     69789.0       80030.0          96448.0        70317.0   \n",
      "2015     77845.0     79131.0       83993.0          93311.0        67773.0   \n",
      "2016     78583.0     70271.0       88744.0          95468.0        66886.0   \n",
      "2017     84282.0     73403.0       82530.0          92958.0        67167.0   \n",
      "2018     75195.0     70765.0       89011.0          91707.0        73375.0   \n",
      "2019     72180.0     82110.0       90201.0          90814.0        69444.0   \n",
      "2020     78382.0     88438.0       89150.0          95810.0        70843.0   \n",
      "\n",
      "      november_sales  december_sales     total  \n",
      "2011         70048.0        145378.0  871585.0  \n",
      "2012         81811.0        199468.0  937723.0  \n",
      "2013         79809.0        155736.0  924230.0  \n",
      "2014         74153.0        160152.0  870415.0  \n",
      "2015         71925.0        159231.0  895264.0  \n",
      "2016         82020.0        162724.0  880871.0  \n",
      "2017         75553.0        161102.0  888036.0  \n",
      "2018         77740.0        182880.0  921572.0  \n",
      "2019         73301.0        192224.0  939193.0  \n",
      "2020         75393.0        137534.0  891250.0  \n"
     ]
    }
   ],
   "source": [
    "dfSales['total'] = dfSales.sum(axis = 1)\n",
    "print(dfSales)"
   ]
  },
  {
   "cell_type": "markdown",
   "id": "fdf371f3-090c-4064-8bcd-3a1e3c6b1a16",
   "metadata": {},
   "source": [
    "let's say we also want to find the growth (trend) from year to year but do we have the data for it? no but we can calculate it."
   ]
  },
  {
   "cell_type": "markdown",
   "id": "a4c10866-c773-4f85-8869-4e5fadf3d206",
   "metadata": {},
   "source": [
    "to calculate the sales growth we can subtract the sales of a year to its previous year and get its percentage for the next column which will contain the percentagge of the growth:"
   ]
  },
  {
   "cell_type": "code",
   "execution_count": 12,
   "id": "890eb4b4-b2e5-4949-9bc3-afb62b9b1a6d",
   "metadata": {},
   "outputs": [
    {
     "name": "stdout",
     "output_type": "stream",
     "text": [
      "      january_sales  february_sales  march_sales  april_sales  may_sales  \\\n",
      "2011        47563.0         49078.0      51324.0      55678.0    54687.0   \n",
      "2012        39575.0         50384.0      56827.0      60401.0    59802.0   \n",
      "2013        56591.0         50319.0      51627.0      53040.0    63607.0   \n",
      "2014        39113.0         40107.0      52332.0      63681.0    54788.0   \n",
      "2015        41666.0         53993.0      43428.0      64898.0    58070.0   \n",
      "2016        38405.0         46658.0      40267.0      53313.0    57532.0   \n",
      "2017        41756.0         41311.0      50981.0      62467.0    54526.0   \n",
      "2018        56061.0         40703.0      47350.0      56515.0    60270.0   \n",
      "2019        57355.0         46703.0      44234.0      57172.0    63455.0   \n",
      "2020        42234.0         54050.0      42377.0      61252.0    55787.0   \n",
      "\n",
      "      june_sales  july_sales  august_sales  september_sales  october_sales  \\\n",
      "2011     72013.0     80443.0       86785.0          90876.0        67712.0   \n",
      "2012     84023.0     59733.0       86568.0          90986.0        68145.0   \n",
      "2013     84145.0     72511.0       91004.0          95838.0        70003.0   \n",
      "2014     69505.0     69789.0       80030.0          96448.0        70317.0   \n",
      "2015     77845.0     79131.0       83993.0          93311.0        67773.0   \n",
      "2016     78583.0     70271.0       88744.0          95468.0        66886.0   \n",
      "2017     84282.0     73403.0       82530.0          92958.0        67167.0   \n",
      "2018     75195.0     70765.0       89011.0          91707.0        73375.0   \n",
      "2019     72180.0     82110.0       90201.0          90814.0        69444.0   \n",
      "2020     78382.0     88438.0       89150.0          95810.0        70843.0   \n",
      "\n",
      "      november_sales  december_sales     total    growth  growthPercent  \n",
      "2011         70048.0        145378.0  871585.0  871585.0     100.000000  \n",
      "2012         81811.0        199468.0  937723.0   66138.0       7.588244  \n",
      "2013         79809.0        155736.0  924230.0  -13493.0      -1.438911  \n",
      "2014         74153.0        160152.0  870415.0  -53815.0      -5.822685  \n",
      "2015         71925.0        159231.0  895264.0   24849.0       2.854845  \n",
      "2016         82020.0        162724.0  880871.0  -14393.0      -1.607682  \n",
      "2017         75553.0        161102.0  888036.0    7165.0       0.813399  \n",
      "2018         77740.0        182880.0  921572.0   33536.0       3.776423  \n",
      "2019         73301.0        192224.0  939193.0   17621.0       1.912059  \n",
      "2020         75393.0        137534.0  891250.0  -47943.0      -5.104702  \n"
     ]
    }
   ],
   "source": [
    "def growth(series, df):\n",
    "    arrGrowth = []\n",
    "    arrPercent = []\n",
    "    for i in df.index:\n",
    "        if i == 2011:\n",
    "            arrGrowth.append(series[i])\n",
    "            arrPercent.append(series[i]/series[i]*100)\n",
    "            \n",
    "        else:\n",
    "            arrGrowth.append(series[i] - series[i - 1])\n",
    "            arrPercent.append((series[i] - series[i - 1])/series[i - 1] * 100)\n",
    "    return arrGrowth, arrPercent\n",
    "    \n",
    "dfSales['growth'], dfSales['growthPercent'] = growth(dfSales['total'], dfSales)\n",
    "print(dfSales)"
   ]
  },
  {
   "cell_type": "markdown",
   "id": "25c674e9-418d-440b-a2c6-928018a4d61f",
   "metadata": {},
   "source": [
    "We are also tasked to get the monthly average therefore we use the `mean()` function"
   ]
  },
  {
   "cell_type": "code",
   "execution_count": 26,
   "id": "1c3b5d7c-c881-4549-a459-4d7e31151200",
   "metadata": {},
   "outputs": [
    {
     "name": "stderr",
     "output_type": "stream",
     "text": [
      "C:\\Users\\magan\\AppData\\Local\\Temp\\ipykernel_16968\\1738643045.py:6: UserWarning: set_ticklabels() should only be used with a fixed number of ticks, i.e. after set_ticks() or using a FixedLocator.\n",
      "  plot.set_xticklabels(xValues, rotation = 45)\n"
     ]
    },
    {
     "data": {
      "image/png": "[encoded data removed]",
      "text/plain": [
       "<Figure size 640x480 with 1 Axes>"
      ]
     },
     "metadata": {},
     "output_type": "display_data"
    }
   ],
   "source": [
    "monthlyAve = dfSales.mean(axis = 0)\n",
    "xValues = [x.replace(\"_sales\", \"\") for x in dfSales.columns[:-3]]\n",
    "yValues = monthlyAve[:-3]\n",
    "import seaborn as sns\n",
    "plot = sns.barplot(x = xValues, y = yValues, hue = monthlyAve[:-3])\n",
    "plot.set_xticklabels(xValues, rotation = 45)\n",
    "plt.ylabel(\"Average Sales\")\n",
    "plt.xlabel(\"Months\")\n",
    "plt.show()"
   ]
  },
  {
   "cell_type": "markdown",
   "id": "87be191e-c41d-446b-bd72-94ca94c4868c",
   "metadata": {},
   "source": [
    "What we have done is perform calculations and these calculations are crucial to our analysis and often when analyzing you are ought to perform calculations such as the above.\n",
    "\n",
    "---"
   ]
  },
  {
   "cell_type": "markdown",
   "id": "a755cfe7-1701-471d-b54e-8bc44a0d808a",
   "metadata": {},
   "source": [
    "## Additional Readings\n",
    "The following are the tools that can help you with calculations"
   ]
  },
  {
   "cell_type": "markdown",
   "id": "b32a37ea-0f56-409e-873b-e844c546cab3",
   "metadata": {},
   "source": [
    "### PIVOT TABLE:\n",
    "\n",
    "- One way also to perform analysis is to create a pivot table\n",
    "- Let you view data in different ways to help you identify trends. It is great when calculating sum and mean. "
   ]
  },
  {
   "cell_type": "markdown",
   "id": "15af9706-3d55-45f0-a77c-26b444a637e8",
   "metadata": {},
   "source": [
    "To better understand the pivot table, we can follow along with the case study presented:\n",
    "> We were given a dataset containing movies and their revenue, we were tasked to analyze it to help the stakeholders make better decisions about new movies"
   ]
  },
  {
   "cell_type": "code",
   "execution_count": 27,
   "id": "2a3b79c0-66f1-4181-872c-af16b4fd4d3d",
   "metadata": {},
   "outputs": [
    {
     "data": {
      "text/html": [
       "<div>\n",
       "<style scoped>\n",
       "    .dataframe tbody tr th:only-of-type {\n",
       "        vertical-align: middle;\n",
       "    }\n",
       "\n",
       "    .dataframe tbody tr th {\n",
       "        vertical-align: top;\n",
       "    }\n",
       "\n",
       "    .dataframe thead th {\n",
       "        text-align: right;\n",
       "    }\n",
       "</style>\n",
       "<table border=\"1\" class=\"dataframe\">\n",
       "  <thead>\n",
       "    <tr style=\"text-align: right;\">\n",
       "      <th></th>\n",
       "      <th>movie_title</th>\n",
       "      <th>release_date</th>\n",
       "      <th>genre_1</th>\n",
       "      <th>genre_2</th>\n",
       "      <th>director_1</th>\n",
       "      <th>director_2</th>\n",
       "      <th>cast_1</th>\n",
       "      <th>cast_2</th>\n",
       "      <th>cast_3</th>\n",
       "      <th>cast_4</th>\n",
       "      <th>cast_5</th>\n",
       "      <th>budget</th>\n",
       "      <th>box_office_revenue</th>\n",
       "      <th>year</th>\n",
       "    </tr>\n",
       "  </thead>\n",
       "  <tbody>\n",
       "    <tr>\n",
       "      <th>0</th>\n",
       "      <td>10 Cloverfield Lane</td>\n",
       "      <td>2016-03-08</td>\n",
       "      <td>Thriller</td>\n",
       "      <td>Horror</td>\n",
       "      <td>Dan Trachtenberg</td>\n",
       "      <td>NaN</td>\n",
       "      <td>Mary Elizabeth Winstead</td>\n",
       "      <td>John Goodman</td>\n",
       "      <td>John Gallagher</td>\n",
       "      <td>NaN</td>\n",
       "      <td>NaN</td>\n",
       "      <td>15000000.0</td>\n",
       "      <td>108300000.0</td>\n",
       "      <td>2016</td>\n",
       "    </tr>\n",
       "    <tr>\n",
       "      <th>1</th>\n",
       "      <td>13 Hours: The Secret Soldiers of Benghazi</td>\n",
       "      <td>2016-01-15</td>\n",
       "      <td>Action</td>\n",
       "      <td>Thriller</td>\n",
       "      <td>Michael Bay</td>\n",
       "      <td>NaN</td>\n",
       "      <td>James Badge Dale</td>\n",
       "      <td>John Krasinski</td>\n",
       "      <td>Toby Stephens</td>\n",
       "      <td>Pablo Schreiber</td>\n",
       "      <td>Max Martini</td>\n",
       "      <td>45000000.0</td>\n",
       "      <td>69400000.0</td>\n",
       "      <td>2016</td>\n",
       "    </tr>\n",
       "    <tr>\n",
       "      <th>2</th>\n",
       "      <td>2 Guns</td>\n",
       "      <td>2013-08-02</td>\n",
       "      <td>Action</td>\n",
       "      <td>Crime</td>\n",
       "      <td>Baltasar Kormákur</td>\n",
       "      <td>NaN</td>\n",
       "      <td>Mark Wahlberg</td>\n",
       "      <td>Denzel Washington</td>\n",
       "      <td>Paula Patton</td>\n",
       "      <td>Bill Paxton</td>\n",
       "      <td>Edward James Olmos</td>\n",
       "      <td>61000000.0</td>\n",
       "      <td>131900000.0</td>\n",
       "      <td>2013</td>\n",
       "    </tr>\n",
       "    <tr>\n",
       "      <th>3</th>\n",
       "      <td>21 Jump Street</td>\n",
       "      <td>2012-03-16</td>\n",
       "      <td>Comedy</td>\n",
       "      <td>Action</td>\n",
       "      <td>Phil Lord</td>\n",
       "      <td>Chris Miller</td>\n",
       "      <td>Jonah Hill</td>\n",
       "      <td>Channing Tatum</td>\n",
       "      <td>Ice Cube</td>\n",
       "      <td>Brie Larson</td>\n",
       "      <td>Rob Riggle</td>\n",
       "      <td>55000000.0</td>\n",
       "      <td>201500000.0</td>\n",
       "      <td>2012</td>\n",
       "    </tr>\n",
       "    <tr>\n",
       "      <th>4</th>\n",
       "      <td>22 Jump Street</td>\n",
       "      <td>2014-06-04</td>\n",
       "      <td>Action</td>\n",
       "      <td>Comedy</td>\n",
       "      <td>Phil Lord</td>\n",
       "      <td>Chris Miller</td>\n",
       "      <td>Channing Tatum</td>\n",
       "      <td>Jonah Hill</td>\n",
       "      <td>Ice Cube</td>\n",
       "      <td>NaN</td>\n",
       "      <td>NaN</td>\n",
       "      <td>84500000.0</td>\n",
       "      <td>331300000.0</td>\n",
       "      <td>2014</td>\n",
       "    </tr>\n",
       "  </tbody>\n",
       "</table>\n",
       "</div>"
      ],
      "text/plain": [
       "                                 movie_title release_date   genre_1   genre_2  \\\n",
       "0                        10 Cloverfield Lane   2016-03-08  Thriller    Horror   \n",
       "1  13 Hours: The Secret Soldiers of Benghazi   2016-01-15    Action  Thriller   \n",
       "2                                     2 Guns   2013-08-02    Action     Crime   \n",
       "3                             21 Jump Street   2012-03-16    Comedy    Action   \n",
       "4                             22 Jump Street   2014-06-04    Action    Comedy   \n",
       "\n",
       "          director_1    director_2                   cast_1  \\\n",
       "0   Dan Trachtenberg           NaN  Mary Elizabeth Winstead   \n",
       "1        Michael Bay           NaN         James Badge Dale   \n",
       "2  Baltasar Kormákur           NaN            Mark Wahlberg   \n",
       "3          Phil Lord  Chris Miller               Jonah Hill   \n",
       "4          Phil Lord  Chris Miller           Channing Tatum   \n",
       "\n",
       "              cast_2          cast_3           cast_4              cast_5  \\\n",
       "0       John Goodman  John Gallagher              NaN                 NaN   \n",
       "1     John Krasinski   Toby Stephens  Pablo Schreiber         Max Martini   \n",
       "2  Denzel Washington    Paula Patton      Bill Paxton  Edward James Olmos   \n",
       "3     Channing Tatum        Ice Cube      Brie Larson          Rob Riggle   \n",
       "4         Jonah Hill        Ice Cube              NaN                 NaN   \n",
       "\n",
       "       budget  box_office_revenue  year  \n",
       "0  15000000.0         108300000.0  2016  \n",
       "1  45000000.0          69400000.0  2016  \n",
       "2  61000000.0         131900000.0  2013  \n",
       "3  55000000.0         201500000.0  2012  \n",
       "4  84500000.0         331300000.0  2014  "
      ]
     },
     "execution_count": 27,
     "metadata": {},
     "output_type": "execute_result"
    }
   ],
   "source": [
    "# Let me just load the dataset\n",
    "# let me first clean this table that we need:\n",
    "dfMovie =  pd.read_csv(r\"C:\\Users\\magan\\Downloads\\Movie-Data-Starter-Project.csv\", encoding = \"latin\")\n",
    "dfMovie = dfMovie.iloc[:,:14]\n",
    "dfClean = dfMovie.drop(columns = ['Wikipedia URL'])\n",
    "\n",
    "\n",
    "import re\n",
    "myRe = re.compile(\"[()\\$\\,]\")\n",
    "\n",
    "dfClean.columns = [myRe.sub(\"\", i).lower().replace(\" \", \"_\") for i in dfClean.columns]\n",
    "\n",
    "budgetList = []\n",
    "revenueList = []\n",
    "for i in range(len(dfClean['budget_'])):\n",
    "    budgetList.append(myRe.sub(\"\", dfClean['budget_'][i]))\n",
    "    revenueList.append(myRe.sub(\"\", dfClean['box_office_revenue_'][i]))\n",
    "\n",
    "dfClean['budget_'] = budgetList\n",
    "dfClean['box_office_revenue_'] = revenueList\n",
    "\n",
    "dfClean[\"budget_\"] = pd.to_numeric(dfClean[\"budget_\"])\n",
    "dfClean[\"box_office_revenue_\"] = pd.to_numeric(dfClean[\"box_office_revenue_\"])\n",
    "dfClean[\"release_date\"] = pd.to_datetime(dfClean[\"release_date\"])\n",
    "\n",
    "myCols = list(dfClean.columns)\n",
    "myCols[-1] = \"box_office_revenue\"\n",
    "myCols[-2] = \"budget\"\n",
    "dfClean.columns = myCols\n",
    "dfClean['year'] = dfClean['release_date'].dt.year\n",
    "dfClean.head()"
   ]
  },
  {
   "cell_type": "markdown",
   "id": "9d7ea742-c551-44a0-958c-07d63e43519a",
   "metadata": {},
   "source": [
    "In this example, your manager ask you to find some trends to help them think through new movie ideas using revenue calculations.\n",
    "- Find out how much revenuew was generated each year\n",
    "- Build a pivot table to show the revenue per year"
   ]
  },
  {
   "cell_type": "code",
   "execution_count": 28,
   "id": "544e523b-5c68-4805-9bf2-964f92f5af4a",
   "metadata": {},
   "outputs": [
    {
     "data": {
      "text/html": [
       "<div>\n",
       "<style scoped>\n",
       "    .dataframe tbody tr th:only-of-type {\n",
       "        vertical-align: middle;\n",
       "    }\n",
       "\n",
       "    .dataframe tbody tr th {\n",
       "        vertical-align: top;\n",
       "    }\n",
       "\n",
       "    .dataframe thead tr th {\n",
       "        text-align: left;\n",
       "    }\n",
       "\n",
       "    .dataframe thead tr:last-of-type th {\n",
       "        text-align: right;\n",
       "    }\n",
       "</style>\n",
       "<table border=\"1\" class=\"dataframe\">\n",
       "  <thead>\n",
       "    <tr>\n",
       "      <th></th>\n",
       "      <th>sum</th>\n",
       "    </tr>\n",
       "    <tr>\n",
       "      <th></th>\n",
       "      <th>box_office_revenue</th>\n",
       "    </tr>\n",
       "    <tr>\n",
       "      <th>year</th>\n",
       "      <th></th>\n",
       "    </tr>\n",
       "  </thead>\n",
       "  <tbody>\n",
       "    <tr>\n",
       "      <th>2012</th>\n",
       "      <td>1.807804e+10</td>\n",
       "    </tr>\n",
       "    <tr>\n",
       "      <th>2013</th>\n",
       "      <td>1.367280e+10</td>\n",
       "    </tr>\n",
       "    <tr>\n",
       "      <th>2014</th>\n",
       "      <td>2.001342e+10</td>\n",
       "    </tr>\n",
       "    <tr>\n",
       "      <th>2015</th>\n",
       "      <td>1.352131e+10</td>\n",
       "    </tr>\n",
       "    <tr>\n",
       "      <th>2016</th>\n",
       "      <td>1.192190e+10</td>\n",
       "    </tr>\n",
       "    <tr>\n",
       "      <th>Grand Total</th>\n",
       "      <td>7.720747e+10</td>\n",
       "    </tr>\n",
       "  </tbody>\n",
       "</table>\n",
       "</div>"
      ],
      "text/plain": [
       "                           sum\n",
       "            box_office_revenue\n",
       "year                          \n",
       "2012              1.807804e+10\n",
       "2013              1.367280e+10\n",
       "2014              2.001342e+10\n",
       "2015              1.352131e+10\n",
       "2016              1.192190e+10\n",
       "Grand Total       7.720747e+10"
      ]
     },
     "execution_count": 28,
     "metadata": {},
     "output_type": "execute_result"
    }
   ],
   "source": [
    "import numpy as np\n",
    "pivotMovie = pd.pivot_table(dfClean, values = \"box_office_revenue\", index = \"year\", aggfunc = ['sum'], margins = True)\n",
    "newInd = list(pivotMovie.index)\n",
    "newInd[-1]= 'Grand Total'\n",
    "pivotMovie.index = pd.Series(newInd, name = 'year')\n",
    "pivotMovie"
   ]
  },
  {
   "cell_type": "markdown",
   "id": "2ab9abbb-7bb5-435b-9927-eb0d62e9712b",
   "metadata": {},
   "source": [
    "We have presented above the sum of the revenue made each year"
   ]
  },
  {
   "cell_type": "code",
   "execution_count": 29,
   "id": "5aa7ae16-da79-4e31-9764-bc509a8fc792",
   "metadata": {},
   "outputs": [
    {
     "data": {
      "text/plain": [
       "<Axes: xlabel='year', ylabel=\"('sum', 'box_office_revenue')\">"
      ]
     },
     "execution_count": 29,
     "metadata": {},
     "output_type": "execute_result"
    },
    {
     "data": {
      "image/png": "[encoded data removed]",
      "text/plain": [
       "<Figure size 640x480 with 1 Axes>"
      ]
     },
     "metadata": {},
     "output_type": "display_data"
    }
   ],
   "source": [
    "sns.barplot(y = (\"sum\", \"box_office_revenue\")[:5], x = pivotMovie.index[:5], data = pivotMovie.iloc[:5, :5], hue = 'year')"
   ]
  },
  {
   "cell_type": "markdown",
   "id": "1bbb1617-d0cd-4c64-b257-70ac2ec7545a",
   "metadata": {},
   "source": [
    "From this we can see that 2016 has the lowest revenue and 2014 has the highest but this may not be very useful because there are different number of movies each year so it is probabyly much better to find the mean of revenue for each year:"
   ]
  },
  {
   "cell_type": "code",
   "execution_count": 30,
   "id": "55a5d103-1744-45bd-8b20-b0c842e57ce1",
   "metadata": {},
   "outputs": [
    {
     "data": {
      "text/html": [
       "<div>\n",
       "<style scoped>\n",
       "    .dataframe tbody tr th:only-of-type {\n",
       "        vertical-align: middle;\n",
       "    }\n",
       "\n",
       "    .dataframe tbody tr th {\n",
       "        vertical-align: top;\n",
       "    }\n",
       "\n",
       "    .dataframe thead tr th {\n",
       "        text-align: left;\n",
       "    }\n",
       "\n",
       "    .dataframe thead tr:last-of-type th {\n",
       "        text-align: right;\n",
       "    }\n",
       "</style>\n",
       "<table border=\"1\" class=\"dataframe\">\n",
       "  <thead>\n",
       "    <tr>\n",
       "      <th></th>\n",
       "      <th>sum</th>\n",
       "      <th>mean</th>\n",
       "    </tr>\n",
       "    <tr>\n",
       "      <th></th>\n",
       "      <th>box_office_revenue</th>\n",
       "      <th>box_office_revenue</th>\n",
       "    </tr>\n",
       "    <tr>\n",
       "      <th>year</th>\n",
       "      <th></th>\n",
       "      <th></th>\n",
       "    </tr>\n",
       "  </thead>\n",
       "  <tbody>\n",
       "    <tr>\n",
       "      <th>2012</th>\n",
       "      <td>1.807804e+10</td>\n",
       "      <td>1.705475e+08</td>\n",
       "    </tr>\n",
       "    <tr>\n",
       "      <th>2013</th>\n",
       "      <td>1.367280e+10</td>\n",
       "      <td>1.608565e+08</td>\n",
       "    </tr>\n",
       "    <tr>\n",
       "      <th>2014</th>\n",
       "      <td>2.001342e+10</td>\n",
       "      <td>1.681800e+08</td>\n",
       "    </tr>\n",
       "    <tr>\n",
       "      <th>2015</th>\n",
       "      <td>1.352131e+10</td>\n",
       "      <td>1.090428e+08</td>\n",
       "    </tr>\n",
       "    <tr>\n",
       "      <th>2016</th>\n",
       "      <td>1.192190e+10</td>\n",
       "      <td>1.611068e+08</td>\n",
       "    </tr>\n",
       "    <tr>\n",
       "      <th>Grand Total</th>\n",
       "      <td>7.720747e+10</td>\n",
       "      <td>1.519832e+08</td>\n",
       "    </tr>\n",
       "  </tbody>\n",
       "</table>\n",
       "</div>"
      ],
      "text/plain": [
       "                           sum               mean\n",
       "            box_office_revenue box_office_revenue\n",
       "year                                             \n",
       "2012              1.807804e+10       1.705475e+08\n",
       "2013              1.367280e+10       1.608565e+08\n",
       "2014              2.001342e+10       1.681800e+08\n",
       "2015              1.352131e+10       1.090428e+08\n",
       "2016              1.192190e+10       1.611068e+08\n",
       "Grand Total       7.720747e+10       1.519832e+08"
      ]
     },
     "execution_count": 30,
     "metadata": {},
     "output_type": "execute_result"
    }
   ],
   "source": [
    "pivotMovie = pd.pivot_table(dfClean, values = \"box_office_revenue\", index = \"year\", aggfunc = ['sum', 'mean'], margins = True)\n",
    "newInd = list(pivotMovie.index)\n",
    "newInd[-1]= 'Grand Total'\n",
    "pivotMovie.index = pd.Series(newInd, name = 'year')\n",
    "pivotMovie"
   ]
  },
  {
   "cell_type": "code",
   "execution_count": 31,
   "id": "6dca84d5-214b-40a6-92d7-35ca3dbe0c21",
   "metadata": {},
   "outputs": [
    {
     "data": {
      "text/plain": [
       "<Axes: xlabel='year', ylabel=\"('mean', 'box_office_revenue')\">"
      ]
     },
     "execution_count": 31,
     "metadata": {},
     "output_type": "execute_result"
    },
    {
     "data": {
      "image/png": "[encoded data removed]",
      "text/plain": [
       "<Figure size 640x480 with 1 Axes>"
      ]
     },
     "metadata": {},
     "output_type": "display_data"
    }
   ],
   "source": [
    "sns.barplot(y = (\"mean\", \"box_office_revenue\")[:5], x = pivotMovie.index[:5], data = pivotMovie[:5], hue = 'year')"
   ]
  },
  {
   "cell_type": "markdown",
   "id": "3727e29c-c9c4-4618-b36e-64ccb0d92bb6",
   "metadata": {},
   "source": [
    "We can see in here that 2015 has now became the lowest which perhaps tells us that there are more unsuccesful movies in this year. But to prove that it is we must edit our pivot table again:"
   ]
  },
  {
   "cell_type": "code",
   "execution_count": 19,
   "id": "6cd608fc-4cf3-4127-a4c9-c709624e77f4",
   "metadata": {},
   "outputs": [
    {
     "data": {
      "text/html": [
       "<div>\n",
       "<style scoped>\n",
       "    .dataframe tbody tr th:only-of-type {\n",
       "        vertical-align: middle;\n",
       "    }\n",
       "\n",
       "    .dataframe tbody tr th {\n",
       "        vertical-align: top;\n",
       "    }\n",
       "\n",
       "    .dataframe thead tr th {\n",
       "        text-align: left;\n",
       "    }\n",
       "\n",
       "    .dataframe thead tr:last-of-type th {\n",
       "        text-align: right;\n",
       "    }\n",
       "</style>\n",
       "<table border=\"1\" class=\"dataframe\">\n",
       "  <thead>\n",
       "    <tr>\n",
       "      <th></th>\n",
       "      <th>sum</th>\n",
       "      <th>mean</th>\n",
       "      <th>count</th>\n",
       "    </tr>\n",
       "    <tr>\n",
       "      <th></th>\n",
       "      <th>box_office_revenue</th>\n",
       "      <th>box_office_revenue</th>\n",
       "      <th>box_office_revenue</th>\n",
       "    </tr>\n",
       "    <tr>\n",
       "      <th>year</th>\n",
       "      <th></th>\n",
       "      <th></th>\n",
       "      <th></th>\n",
       "    </tr>\n",
       "  </thead>\n",
       "  <tbody>\n",
       "    <tr>\n",
       "      <th>2012</th>\n",
       "      <td>1.807804e+10</td>\n",
       "      <td>1.705475e+08</td>\n",
       "      <td>106</td>\n",
       "    </tr>\n",
       "    <tr>\n",
       "      <th>2013</th>\n",
       "      <td>1.367280e+10</td>\n",
       "      <td>1.608565e+08</td>\n",
       "      <td>85</td>\n",
       "    </tr>\n",
       "    <tr>\n",
       "      <th>2014</th>\n",
       "      <td>2.001342e+10</td>\n",
       "      <td>1.681800e+08</td>\n",
       "      <td>119</td>\n",
       "    </tr>\n",
       "    <tr>\n",
       "      <th>2015</th>\n",
       "      <td>1.352131e+10</td>\n",
       "      <td>1.090428e+08</td>\n",
       "      <td>124</td>\n",
       "    </tr>\n",
       "    <tr>\n",
       "      <th>2016</th>\n",
       "      <td>1.192190e+10</td>\n",
       "      <td>1.611068e+08</td>\n",
       "      <td>74</td>\n",
       "    </tr>\n",
       "    <tr>\n",
       "      <th>Grand Total</th>\n",
       "      <td>7.720747e+10</td>\n",
       "      <td>1.519832e+08</td>\n",
       "      <td>508</td>\n",
       "    </tr>\n",
       "  </tbody>\n",
       "</table>\n",
       "</div>"
      ],
      "text/plain": [
       "                           sum               mean              count\n",
       "            box_office_revenue box_office_revenue box_office_revenue\n",
       "year                                                                \n",
       "2012              1.807804e+10       1.705475e+08                106\n",
       "2013              1.367280e+10       1.608565e+08                 85\n",
       "2014              2.001342e+10       1.681800e+08                119\n",
       "2015              1.352131e+10       1.090428e+08                124\n",
       "2016              1.192190e+10       1.611068e+08                 74\n",
       "Grand Total       7.720747e+10       1.519832e+08                508"
      ]
     },
     "execution_count": 19,
     "metadata": {},
     "output_type": "execute_result"
    }
   ],
   "source": [
    "pivotMovie = pd.pivot_table(dfClean, values = \"box_office_revenue\", index = \"year\", aggfunc = [\"sum\", \"mean\", 'count'], margins = True)\n",
    "newInd = list(pivotMovie.index)\n",
    "newInd[-1]= 'Grand Total'\n",
    "pivotMovie.index = pd.Series(newInd, name = 'year')\n",
    "pivotMovie"
   ]
  },
  {
   "cell_type": "code",
   "execution_count": 20,
   "id": "011c875a-adb0-46c4-b2db-238c9c585cb9",
   "metadata": {},
   "outputs": [
    {
     "data": {
      "text/plain": [
       "<Axes: xlabel='year', ylabel=\"('count', 'box_office_revenue')\">"
      ]
     },
     "execution_count": 20,
     "metadata": {},
     "output_type": "execute_result"
    },
    {
     "data": {
      "image/png": "[encoded data removed]",
      "text/plain": [
       "<Figure size 640x480 with 1 Axes>"
      ]
     },
     "metadata": {},
     "output_type": "display_data"
    }
   ],
   "source": [
    "sns.barplot(x = pivotMovie.index[:5], y = (\"count\", \"box_office_revenue\")[:5], data = pivotMovie[:5])"
   ]
  },
  {
   "cell_type": "markdown",
   "id": "d3f6b2d9-3ed2-48cb-ba2f-4303fc8d7494",
   "metadata": {},
   "source": [
    "Here it is true that 2015 has the most number of movie. This means that maybe 2015 had more movies that did not succeed and thus pulled the average."
   ]
  },
  {
   "cell_type": "markdown",
   "id": "f92f73b6-ae1d-4b04-8d9d-390f19d360b4",
   "metadata": {},
   "source": [
    "That is our hypothesis. We have to prove that 2015 is an unsuccesful year having movies with `< 10M` in revenue. To do that we should count how many movies earned less than 10M. To test this hypothesis we can create another pivot table that will only contains movies that earned less than 10M."
   ]
  },
  {
   "cell_type": "code",
   "execution_count": 32,
   "id": "c6736d8d-e7a6-475d-8eeb-4ebb40db3160",
   "metadata": {},
   "outputs": [
    {
     "data": {
      "text/html": [
       "<div>\n",
       "<style scoped>\n",
       "    .dataframe tbody tr th:only-of-type {\n",
       "        vertical-align: middle;\n",
       "    }\n",
       "\n",
       "    .dataframe tbody tr th {\n",
       "        vertical-align: top;\n",
       "    }\n",
       "\n",
       "    .dataframe thead th {\n",
       "        text-align: right;\n",
       "    }\n",
       "</style>\n",
       "<table border=\"1\" class=\"dataframe\">\n",
       "  <thead>\n",
       "    <tr style=\"text-align: right;\">\n",
       "      <th></th>\n",
       "      <th>movie_title</th>\n",
       "      <th>release_date</th>\n",
       "      <th>genre_1</th>\n",
       "      <th>genre_2</th>\n",
       "      <th>director_1</th>\n",
       "      <th>director_2</th>\n",
       "      <th>cast_1</th>\n",
       "      <th>cast_2</th>\n",
       "      <th>cast_3</th>\n",
       "      <th>cast_4</th>\n",
       "      <th>cast_5</th>\n",
       "      <th>budget</th>\n",
       "      <th>box_office_revenue</th>\n",
       "      <th>year</th>\n",
       "    </tr>\n",
       "  </thead>\n",
       "  <tbody>\n",
       "    <tr>\n",
       "      <th>7</th>\n",
       "      <td>71</td>\n",
       "      <td>2014-02-07</td>\n",
       "      <td>Action</td>\n",
       "      <td>Drama</td>\n",
       "      <td>Yann Demange</td>\n",
       "      <td>NaN</td>\n",
       "      <td>Jack O'Connell</td>\n",
       "      <td>Richard Dormer</td>\n",
       "      <td>Sean Harris</td>\n",
       "      <td>Sam Reid</td>\n",
       "      <td>NaN</td>\n",
       "      <td>8100000.0</td>\n",
       "      <td>2900000.0</td>\n",
       "      <td>2014</td>\n",
       "    </tr>\n",
       "    <tr>\n",
       "      <th>8</th>\n",
       "      <td>90 Minutes in Heaven</td>\n",
       "      <td>2015-09-11</td>\n",
       "      <td>Drama</td>\n",
       "      <td>NaN</td>\n",
       "      <td>Michael Polish</td>\n",
       "      <td>NaN</td>\n",
       "      <td>Hayden Christensen</td>\n",
       "      <td>Kate Bosworth</td>\n",
       "      <td>Dwight Yoakam</td>\n",
       "      <td>Michael W. Smith</td>\n",
       "      <td>NaN</td>\n",
       "      <td>5000000.0</td>\n",
       "      <td>4800000.0</td>\n",
       "      <td>2015</td>\n",
       "    </tr>\n",
       "    <tr>\n",
       "      <th>12</th>\n",
       "      <td>A Long Way Down</td>\n",
       "      <td>2014-02-10</td>\n",
       "      <td>Comedy</td>\n",
       "      <td>NaN</td>\n",
       "      <td>Pascal Chaumeil</td>\n",
       "      <td>NaN</td>\n",
       "      <td>Toni Collette</td>\n",
       "      <td>Pierce Brosnan</td>\n",
       "      <td>Aaron Paul</td>\n",
       "      <td>Imogen Poots</td>\n",
       "      <td>NaN</td>\n",
       "      <td>22700000.0</td>\n",
       "      <td>7100000.0</td>\n",
       "      <td>2014</td>\n",
       "    </tr>\n",
       "    <tr>\n",
       "      <th>20</th>\n",
       "      <td>Ain't Them Bodies Saints</td>\n",
       "      <td>2013-08-16</td>\n",
       "      <td>Drama</td>\n",
       "      <td>NaN</td>\n",
       "      <td>David Lowery</td>\n",
       "      <td>NaN</td>\n",
       "      <td>Casey Affleck</td>\n",
       "      <td>Rooney Mara</td>\n",
       "      <td>Ben Foster</td>\n",
       "      <td>Rami Malek</td>\n",
       "      <td>Keith Carradine</td>\n",
       "      <td>4000000.0</td>\n",
       "      <td>1000000.0</td>\n",
       "      <td>2013</td>\n",
       "    </tr>\n",
       "    <tr>\n",
       "      <th>32</th>\n",
       "      <td>As Above, So Below</td>\n",
       "      <td>2014-08-29</td>\n",
       "      <td>Horror</td>\n",
       "      <td>NaN</td>\n",
       "      <td>John Erick Dowdle</td>\n",
       "      <td>NaN</td>\n",
       "      <td>Drew Dowdle (screenplay)Perdita Weeks</td>\n",
       "      <td>Ben Feldman</td>\n",
       "      <td>Edwin Hodge</td>\n",
       "      <td>François Civil</td>\n",
       "      <td>Marion Lambert</td>\n",
       "      <td>5000000.0</td>\n",
       "      <td>5000000.0</td>\n",
       "      <td>2014</td>\n",
       "    </tr>\n",
       "  </tbody>\n",
       "</table>\n",
       "</div>"
      ],
      "text/plain": [
       "                 movie_title release_date genre_1 genre_2         director_1  \\\n",
       "7                         71   2014-02-07  Action   Drama       Yann Demange   \n",
       "8       90 Minutes in Heaven   2015-09-11   Drama     NaN     Michael Polish   \n",
       "12           A Long Way Down   2014-02-10  Comedy     NaN    Pascal Chaumeil   \n",
       "20  Ain't Them Bodies Saints   2013-08-16   Drama     NaN       David Lowery   \n",
       "32        As Above, So Below   2014-08-29  Horror     NaN  John Erick Dowdle   \n",
       "\n",
       "   director_2                                 cast_1          cast_2  \\\n",
       "7         NaN                         Jack O'Connell  Richard Dormer   \n",
       "8         NaN                     Hayden Christensen   Kate Bosworth   \n",
       "12        NaN                          Toni Collette  Pierce Brosnan   \n",
       "20        NaN                          Casey Affleck     Rooney Mara   \n",
       "32        NaN  Drew Dowdle (screenplay)Perdita Weeks     Ben Feldman   \n",
       "\n",
       "           cast_3            cast_4           cast_5      budget  \\\n",
       "7     Sean Harris          Sam Reid              NaN   8100000.0   \n",
       "8   Dwight Yoakam  Michael W. Smith              NaN   5000000.0   \n",
       "12     Aaron Paul      Imogen Poots              NaN  22700000.0   \n",
       "20     Ben Foster        Rami Malek  Keith Carradine   4000000.0   \n",
       "32    Edwin Hodge    François Civil   Marion Lambert   5000000.0   \n",
       "\n",
       "    box_office_revenue  year  \n",
       "7            2900000.0  2014  \n",
       "8            4800000.0  2015  \n",
       "12           7100000.0  2014  \n",
       "20           1000000.0  2013  \n",
       "32           5000000.0  2014  "
      ]
     },
     "execution_count": 32,
     "metadata": {},
     "output_type": "execute_result"
    }
   ],
   "source": [
    "# This code simply subsets the original data to only contain movies with less than 10m\n",
    "lessthan10 = dfClean[dfClean[\"box_office_revenue\"] < 10000000.00]\n",
    "lessthan10.head()"
   ]
  },
  {
   "cell_type": "markdown",
   "id": "93cc3274-070a-4473-bb57-5b6bfc56759d",
   "metadata": {},
   "source": [
    "From this dataset, we can create our new pivot table:"
   ]
  },
  {
   "cell_type": "code",
   "execution_count": 22,
   "id": "ef530f80-d5e7-4bb3-a288-ba3310e6fe0c",
   "metadata": {},
   "outputs": [
    {
     "data": {
      "text/html": [
       "<div>\n",
       "<style scoped>\n",
       "    .dataframe tbody tr th:only-of-type {\n",
       "        vertical-align: middle;\n",
       "    }\n",
       "\n",
       "    .dataframe tbody tr th {\n",
       "        vertical-align: top;\n",
       "    }\n",
       "\n",
       "    .dataframe thead th {\n",
       "        text-align: right;\n",
       "    }\n",
       "</style>\n",
       "<table border=\"1\" class=\"dataframe\">\n",
       "  <thead>\n",
       "    <tr style=\"text-align: right;\">\n",
       "      <th></th>\n",
       "      <th>sum &lt; 10M</th>\n",
       "      <th>average &lt; 10M</th>\n",
       "      <th>count &lt; 10M</th>\n",
       "      <th>percent &lt; 10M</th>\n",
       "    </tr>\n",
       "  </thead>\n",
       "  <tbody>\n",
       "    <tr>\n",
       "      <th>2012</th>\n",
       "      <td>67940000.0</td>\n",
       "      <td>6.794000e+06</td>\n",
       "      <td>10</td>\n",
       "      <td>9.433962</td>\n",
       "    </tr>\n",
       "    <tr>\n",
       "      <th>2013</th>\n",
       "      <td>26400000.0</td>\n",
       "      <td>3.300000e+06</td>\n",
       "      <td>8</td>\n",
       "      <td>9.411765</td>\n",
       "    </tr>\n",
       "    <tr>\n",
       "      <th>2014</th>\n",
       "      <td>46920000.0</td>\n",
       "      <td>4.265455e+06</td>\n",
       "      <td>11</td>\n",
       "      <td>9.243697</td>\n",
       "    </tr>\n",
       "    <tr>\n",
       "      <th>2015</th>\n",
       "      <td>93040000.0</td>\n",
       "      <td>4.652000e+06</td>\n",
       "      <td>20</td>\n",
       "      <td>16.129032</td>\n",
       "    </tr>\n",
       "    <tr>\n",
       "      <th>2016</th>\n",
       "      <td>41100000.0</td>\n",
       "      <td>5.137500e+06</td>\n",
       "      <td>8</td>\n",
       "      <td>10.810811</td>\n",
       "    </tr>\n",
       "    <tr>\n",
       "      <th>Total</th>\n",
       "      <td>275400000.0</td>\n",
       "      <td>4.831579e+06</td>\n",
       "      <td>57</td>\n",
       "      <td>11.220472</td>\n",
       "    </tr>\n",
       "  </tbody>\n",
       "</table>\n",
       "</div>"
      ],
      "text/plain": [
       "         sum < 10M  average < 10M  count < 10M  percent < 10M\n",
       "2012    67940000.0   6.794000e+06           10       9.433962\n",
       "2013    26400000.0   3.300000e+06            8       9.411765\n",
       "2014    46920000.0   4.265455e+06           11       9.243697\n",
       "2015    93040000.0   4.652000e+06           20      16.129032\n",
       "2016    41100000.0   5.137500e+06            8      10.810811\n",
       "Total  275400000.0   4.831579e+06           57      11.220472"
      ]
     },
     "execution_count": 22,
     "metadata": {},
     "output_type": "execute_result"
    }
   ],
   "source": [
    "# now we can create a pivot table to test our hypothesis \"More movies in 2015 earned less than 10M\"\n",
    "  \n",
    "lessThan10Pivot = pd.pivot_table(lessthan10, values = \"box_office_revenue\", index = \"year\", aggfunc = ['sum', 'mean', 'count'], margins = True)\n",
    "lessThan10Pivot.columns = ['sum < 10M', 'average < 10M', 'count < 10M']\n",
    "lessThan10Pivot.index = [2012, 2013, 2014, 2015, 2016, 'Total']\n",
    "lessThan10Pivot['percent < 10M'] = np.array(lessThan10Pivot[\"count < 10M\"])/np.array(pivotMovie[(\"count\", \"box_office_revenue\")]) * 100\n",
    "lessThan10Pivot"
   ]
  },
  {
   "cell_type": "markdown",
   "id": "c02a99f2-2b42-4b42-885e-2e7519bffb2d",
   "metadata": {},
   "source": [
    "So it is true that 2015 had more unsuccessful movies. We can visualize how much percentage this < 10M movies is in 2015."
   ]
  },
  {
   "cell_type": "code",
   "execution_count": 23,
   "id": "a6edfa94-5f08-451b-b47f-d70236c66932",
   "metadata": {},
   "outputs": [
    {
     "data": {
      "image/png": "[encoded data removed]",
      "text/plain": [
       "<Figure size 640x480 with 1 Axes>"
      ]
     },
     "metadata": {},
     "output_type": "display_data"
    }
   ],
   "source": [
    "movie2015Percent = []\n",
    "movie2015Percent.append(lessthan10.groupby('year').get_group(2015)[\"box_office_revenue\"].count())\n",
    "movie2015Percent.append(dfClean[dfClean[\"box_office_revenue\"] >= 10000000].groupby(\"year\").get_group(2015)[\"box_office_revenue\"].count())\n",
    "keys = [\" < 10M\", \">= 10M\"]\n",
    "explode = [0.1, 0.0]\n",
    "plt.pie(movie2015Percent, labels=keys, explode=explode, autopct='%.0f%%')\n",
    "plt.title(\"2015 Revenue: < 10M\")\n",
    "plt.show()"
   ]
  },
  {
   "cell_type": "markdown",
   "id": "ff030649-15e6-4fac-bf35-4f7d9fa67451",
   "metadata": {},
   "source": [
    "---"
   ]
  },
  {
   "cell_type": "markdown",
   "id": "c8b22edc-2ed1-4d33-a881-bb510debeb64",
   "metadata": {},
   "source": [
    "### Queries and Calculations:"
   ]
  },
  {
   "cell_type": "markdown",
   "id": "05bc8719-efc7-43fd-a80a-4efe9d72c197",
   "metadata": {},
   "source": [
    "- Another tool we can use is with the SQL\n",
    "- These are just calculations within SQL"
   ]
  },
  {
   "cell_type": "markdown",
   "id": "739364b8-1dde-4737-aff6-dbb23de9ac5b",
   "metadata": {},
   "source": [
    "You can perform calculations within a quesry if you need a new column:\n",
    "```SQL\n",
    "SELECT\n",
    "    ColumnA,\n",
    "    ColumnB,\n",
    "    ColumnA + ColumnB AS ColumnC\n",
    "FROM \n",
    "    myTable;\n",
    "```\n",
    "\n",
    "Sometimes instead of using the operators, you can use functions such as:\n",
    "- `AVG()`\n",
    "- `SUM()`"
   ]
  },
  {
   "cell_type": "markdown",
   "id": "83648fcc-c487-4ded-aaed-a8de21c74cfb",
   "metadata": {},
   "source": [
    "Sometimes we need to group our data first before calculating, we can do that using the `GROUPBY`. This is usually used with aggregate functions. (I have notes about this in the other repo).\n",
    "\n",
    "For example in our movie data set:"
   ]
  },
  {
   "cell_type": "code",
   "execution_count": 24,
   "id": "a46bc82e-6f0a-4ad9-8364-3a71546f7fc9",
   "metadata": {},
   "outputs": [
    {
     "data": {
      "text/html": [
       "<div>\n",
       "<style scoped>\n",
       "    .dataframe tbody tr th:only-of-type {\n",
       "        vertical-align: middle;\n",
       "    }\n",
       "\n",
       "    .dataframe tbody tr th {\n",
       "        vertical-align: top;\n",
       "    }\n",
       "\n",
       "    .dataframe thead th {\n",
       "        text-align: right;\n",
       "    }\n",
       "</style>\n",
       "<table border=\"1\" class=\"dataframe\">\n",
       "  <thead>\n",
       "    <tr style=\"text-align: right;\">\n",
       "      <th></th>\n",
       "      <th>movie_title</th>\n",
       "      <th>release_date</th>\n",
       "      <th>genre_1</th>\n",
       "      <th>genre_2</th>\n",
       "      <th>director_1</th>\n",
       "      <th>director_2</th>\n",
       "      <th>cast_1</th>\n",
       "      <th>cast_2</th>\n",
       "      <th>cast_3</th>\n",
       "      <th>cast_4</th>\n",
       "      <th>cast_5</th>\n",
       "      <th>budget</th>\n",
       "      <th>box_office_revenue</th>\n",
       "      <th>year</th>\n",
       "    </tr>\n",
       "  </thead>\n",
       "  <tbody>\n",
       "    <tr>\n",
       "      <th>0</th>\n",
       "      <td>10 Cloverfield Lane</td>\n",
       "      <td>2016-03-08</td>\n",
       "      <td>Thriller</td>\n",
       "      <td>Horror</td>\n",
       "      <td>Dan Trachtenberg</td>\n",
       "      <td>NaN</td>\n",
       "      <td>Mary Elizabeth Winstead</td>\n",
       "      <td>John Goodman</td>\n",
       "      <td>John Gallagher</td>\n",
       "      <td>NaN</td>\n",
       "      <td>NaN</td>\n",
       "      <td>15000000.0</td>\n",
       "      <td>108300000.0</td>\n",
       "      <td>2016</td>\n",
       "    </tr>\n",
       "    <tr>\n",
       "      <th>1</th>\n",
       "      <td>13 Hours: The Secret Soldiers of Benghazi</td>\n",
       "      <td>2016-01-15</td>\n",
       "      <td>Action</td>\n",
       "      <td>Thriller</td>\n",
       "      <td>Michael Bay</td>\n",
       "      <td>NaN</td>\n",
       "      <td>James Badge Dale</td>\n",
       "      <td>John Krasinski</td>\n",
       "      <td>Toby Stephens</td>\n",
       "      <td>Pablo Schreiber</td>\n",
       "      <td>Max Martini</td>\n",
       "      <td>45000000.0</td>\n",
       "      <td>69400000.0</td>\n",
       "      <td>2016</td>\n",
       "    </tr>\n",
       "    <tr>\n",
       "      <th>2</th>\n",
       "      <td>2 Guns</td>\n",
       "      <td>2013-08-02</td>\n",
       "      <td>Action</td>\n",
       "      <td>Crime</td>\n",
       "      <td>Baltasar Kormákur</td>\n",
       "      <td>NaN</td>\n",
       "      <td>Mark Wahlberg</td>\n",
       "      <td>Denzel Washington</td>\n",
       "      <td>Paula Patton</td>\n",
       "      <td>Bill Paxton</td>\n",
       "      <td>Edward James Olmos</td>\n",
       "      <td>61000000.0</td>\n",
       "      <td>131900000.0</td>\n",
       "      <td>2013</td>\n",
       "    </tr>\n",
       "    <tr>\n",
       "      <th>3</th>\n",
       "      <td>21 Jump Street</td>\n",
       "      <td>2012-03-16</td>\n",
       "      <td>Comedy</td>\n",
       "      <td>Action</td>\n",
       "      <td>Phil Lord</td>\n",
       "      <td>Chris Miller</td>\n",
       "      <td>Jonah Hill</td>\n",
       "      <td>Channing Tatum</td>\n",
       "      <td>Ice Cube</td>\n",
       "      <td>Brie Larson</td>\n",
       "      <td>Rob Riggle</td>\n",
       "      <td>55000000.0</td>\n",
       "      <td>201500000.0</td>\n",
       "      <td>2012</td>\n",
       "    </tr>\n",
       "    <tr>\n",
       "      <th>4</th>\n",
       "      <td>22 Jump Street</td>\n",
       "      <td>2014-06-04</td>\n",
       "      <td>Action</td>\n",
       "      <td>Comedy</td>\n",
       "      <td>Phil Lord</td>\n",
       "      <td>Chris Miller</td>\n",
       "      <td>Channing Tatum</td>\n",
       "      <td>Jonah Hill</td>\n",
       "      <td>Ice Cube</td>\n",
       "      <td>NaN</td>\n",
       "      <td>NaN</td>\n",
       "      <td>84500000.0</td>\n",
       "      <td>331300000.0</td>\n",
       "      <td>2014</td>\n",
       "    </tr>\n",
       "  </tbody>\n",
       "</table>\n",
       "</div>"
      ],
      "text/plain": [
       "                                 movie_title release_date   genre_1   genre_2  \\\n",
       "0                        10 Cloverfield Lane   2016-03-08  Thriller    Horror   \n",
       "1  13 Hours: The Secret Soldiers of Benghazi   2016-01-15    Action  Thriller   \n",
       "2                                     2 Guns   2013-08-02    Action     Crime   \n",
       "3                             21 Jump Street   2012-03-16    Comedy    Action   \n",
       "4                             22 Jump Street   2014-06-04    Action    Comedy   \n",
       "\n",
       "          director_1    director_2                   cast_1  \\\n",
       "0   Dan Trachtenberg           NaN  Mary Elizabeth Winstead   \n",
       "1        Michael Bay           NaN         James Badge Dale   \n",
       "2  Baltasar Kormákur           NaN            Mark Wahlberg   \n",
       "3          Phil Lord  Chris Miller               Jonah Hill   \n",
       "4          Phil Lord  Chris Miller           Channing Tatum   \n",
       "\n",
       "              cast_2          cast_3           cast_4              cast_5  \\\n",
       "0       John Goodman  John Gallagher              NaN                 NaN   \n",
       "1     John Krasinski   Toby Stephens  Pablo Schreiber         Max Martini   \n",
       "2  Denzel Washington    Paula Patton      Bill Paxton  Edward James Olmos   \n",
       "3     Channing Tatum        Ice Cube      Brie Larson          Rob Riggle   \n",
       "4         Jonah Hill        Ice Cube              NaN                 NaN   \n",
       "\n",
       "       budget  box_office_revenue  year  \n",
       "0  15000000.0         108300000.0  2016  \n",
       "1  45000000.0          69400000.0  2016  \n",
       "2  61000000.0         131900000.0  2013  \n",
       "3  55000000.0         201500000.0  2012  \n",
       "4  84500000.0         331300000.0  2014  "
      ]
     },
     "execution_count": 24,
     "metadata": {},
     "output_type": "execute_result"
    }
   ],
   "source": [
    "dfClean.head()"
   ]
  },
  {
   "cell_type": "markdown",
   "id": "1cc0fbcc-e68f-460b-af39-3f9fe8a1872f",
   "metadata": {},
   "source": [
    "We can group this using a query by year:\n",
    "\n",
    "```SQL\n",
    "SELECT \n",
    "    COUNT(movie_title) AS \"Movie Title Count\"\n",
    "    SUM(box_office_revenue) AS \"Revenue Sum\"\n",
    "FROM movie_dataset\n",
    "GROUPBY\n",
    "    year;\n",
    "```\n",
    "\n",
    "This will give us the following\n",
    "\n",
    "| Year | Movie Title Count | Revenue Sum      |\r\n",
    "|------|-------------------|------------------|\r\n",
    "| 2012 | 106               | 1.807804e+10     |\r\n",
    "| 2013 | 85                | 1.367280e+10     |\r\n",
    "| 2014 | 119               | 2.001342e+10     |\r\n",
    "| 2015 | 124               | 1.352131e+10     |\r\n",
    "| 2016 | 74                | 1.192190e+10     |\r\n"
   ]
  },
  {
   "cell_type": "markdown",
   "id": "7870da7e-3173-45f9-9582-90668ace81b0",
   "metadata": {},
   "source": [
    "### Temporary Tables with SQL"
   ]
  },
  {
   "cell_type": "markdown",
   "id": "39b470d3-6314-43d7-af6f-463e81664d41",
   "metadata": {},
   "source": [
    "- Another tool we can use for calculation are temporary tables\n",
    "- Temporary tables are database table that is created and exists temporarily on a database server. You can do this by joining tables. For example you just need the data from these three tables. What you can do is Join them adn store the result as a temporary table so you won't have to join them again and again."
   ]
  },
  {
   "cell_type": "markdown",
   "id": "218c5f4b-bb48-417d-9822-43f21f3e45e2",
   "metadata": {},
   "source": [
    "**Scenario:**\n",
    "\n",
    "You only want to work on records with movie revenue less than 10M what you can do is filter it once, store it in a temp table and then query on it instead of filtering the original database again and again."
   ]
  },
  {
   "cell_type": "markdown",
   "id": "e654aeab-c3f4-410e-9bcb-38a5454b2dd1",
   "metadata": {},
   "source": [
    "There are different ways to do a temp table but in Bigquery, you can use the `WITH` cluase:\n",
    "\n",
    "```SQL\n",
    "WITH movies_less_10 AS (\n",
    "    SELECT *\n",
    "    FROM moviedatabase\n",
    "    WHERE revenue < 10000000\n",
    "    )\n",
    "```\n",
    "\n",
    "Now we have a temporary table, we can now keep querying on that table (movies_less_10).\n",
    "\n",
    "For example, we want to count how many movies earned less than 10M:\n",
    "\n",
    "```SQL\n",
    "SELECT COUNT(*) AS CountMovie\n",
    "FROM movies_less_10;\n",
    "```\n"
   ]
  },
  {
   "cell_type": "markdown",
   "id": "39bc6eee-af8c-4692-b5f5-04cccf3c2cf9",
   "metadata": {},
   "source": [
    "Some other ways of creating a temp table:"
   ]
  },
  {
   "cell_type": "markdown",
   "id": "447e24aa-6698-4a85-8081-5cb30f793497",
   "metadata": {},
   "source": [
    "| Clause/Functions      | Why use it                                                                                                                                       | Syntax                                                                                                                                                         |\r\n",
    "|------------------------|--------------------------------------------------------------------------------------------------------------------------------------------------|---------------------------------------------------------------------------------------------------------------------------------------------------------------|\r\n",
    "| `SELECT INTO`          | Copies data from one table into a new table without adding it to the database. Useful for creating a copy of data with specific conditions.      | `SELECT * INTO new_table FROM old_table WHERE condition;`                                                                                                      |\r\n",
    "| `CREATE TABLE`         | Creates a new table in the database. Useful when the table needs to be accessed by multiple users or for complex data structures.               | `CREATE TABLE new_table AS SELECT columns FROM old_table WHERE condition;`                                                                                    |\r\n",
    "| `WITH (Common Table Expressions)` | Creates a temporary table for the duration of a query. Useful for breaking down complex queries into simpler components.                          | `WITH temp_table AS (SELECT columns FROM old_table WHERE condition) SELECT * FROM temp_table WHERE other_condition;`                                          |\r\n",
    "| `CREATE TEMP TABLE`    | Creates a temporary table in some RDBMSs. The table is not permanent and is dropped after the session ends.                                      | `CREATE TEMP TABLE new_table AS SELECT columns FROM old_table WHERE condition;`                                                                               |\r\n",
    "| `DROP TABLE`           | Deletes a table from the database, freeing up space and removing unwanted data.                                                                 | `DROP TABLE table_name;`                                                                                                                                      |\r\n",
    "   |\r\n"
   ]
  },
  {
   "cell_type": "markdown",
   "id": "10d84575-40a5-4149-aa4a-01923ae837c3",
   "metadata": {},
   "source": [
    "- `SELECT INTO` is not recognized in some systems like BigQuery, so alternative methods may be required.\n",
    "- `CREATE TABLE` is better for tables that require metadata or are complex.\n",
    "- Temporary tables improve workflow but may interrupt your process depending on your objectives.\n",
    "- Always check your specific RDBMS for supported syntax."
   ]
  },
  {
   "cell_type": "markdown",
   "id": "6353a30b-1ad9-44b0-bcf8-d1f978753c35",
   "metadata": {},
   "source": [
    "An example of `SELECT INTO`:\n",
    "```SQL\n",
    "SELECT\n",
    "    *\n",
    "INTO\n",
    "    AfricaSales\n",
    "FROM\n",
    "    GlobalSales\n",
    "WHERE\n",
    "    Region = \"Africa\"\n",
    "```"
   ]
  },
  {
   "cell_type": "markdown",
   "id": "58d22966-1d03-4994-8ddd-b99778ff59ba",
   "metadata": {},
   "source": [
    "An example of `CREATE TABLE`:\n",
    "```SQL\n",
    "CREATE TABLE table_name (\n",
    "\tcolumn1 datatype,\n",
    "\tcolumn2 datatype,\n",
    "\tcolumn3 datatype,\n",
    "   ....)\n",
    "```"
   ]
  },
  {
   "cell_type": "markdown",
   "id": "cf990444-64cc-43b0-b7d5-8e078c52810d",
   "metadata": {},
   "source": [
    "END"
   ]
  }
 ],
 "metadata": {
  "kernelspec": {
   "display_name": "Python 3 (ipykernel)",
   "language": "python",
   "name": "python3"
  },
  "language_info": {
   "codemirror_mode": {
    "name": "ipython",
    "version": 3
   },
   "file_extension": ".py",
   "mimetype": "text/x-python",
   "name": "python",
   "nbconvert_exporter": "python",
   "pygments_lexer": "ipython3",
   "version": "3.11.5"
  }
 },
 "nbformat": 4,
 "nbformat_minor": 5
}
